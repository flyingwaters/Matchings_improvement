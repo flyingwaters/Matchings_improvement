{
 "cells": [
  {
   "cell_type": "code",
   "execution_count": 13,
   "metadata": {},
   "outputs": [],
   "source": [
    "\n",
    "import json\n",
    "\n",
    "table1= \"purchase_order\"\n",
    "table2= \"purchase_info\"\n",
    "## prompt correspondence\n",
    "## 由于 chatgpt \n",
    "## 实验将所有的correspondence 一起prompt\n",
    "def prompt(path):\n",
    "    with open(path, \"r\") as f:\n",
    "        content = json.load(f)\n",
    "    c_set = content[\"correspondence_set\"]\n",
    "    \n",
    "    prompt = \"For a schema match task,please help to verify these attributes between two tables match or not. \"\n",
    "    for idx, c in enumerate(c_set):\n",
    "        prompt+=str(idx+1) +f\":{table1}.{c[0][1]} and {table2}.{c[1][1]} # \"\n",
    "    prompt+=\"? please answer with [yes or no] for each verification task. and give the reason\"\n",
    "    return prompt "
   ]
  },
  {
   "cell_type": "code",
   "execution_count": 14,
   "metadata": {},
   "outputs": [
    {
     "data": {
      "text/plain": [
       "'For a schema match task,please help to verify these attributes between two tables match or not. 1:purchase_order.Delivery Date and purchase_info.delivery date # 2:purchase_order.Purchasing Manager and purchase_info.purchasing number # 3:purchase_order.Product and purchase_info.product name # 4:purchase_order.Application Date and purchase_info.Application Department # 5:purchase_order.Supplier Name and purchase_info.Supplier Company # 6:purchase_order.Order ID and purchase_info.Order Manager # 7:purchase_order.Application Date and purchase_info.Application Staff name # 8:purchase_order.Product and purchase_info.product requirement # 9:purchase_order.Total Price and purchase_info.product price # 10:purchase_order.Order status and purchase_info.current status # 11:purchase_order.Unit Price and purchase_info.product price # 12:purchase_order.Application Date and purchase_info.delivery date # 13:purchase_order.Product ID and purchase_info.ID # 14:purchase_order.Purchasing Department and purchase_info.Application Department # 15:purchase_order.Order ID and purchase_info.ID # 16:purchase_order.Purchasing Manager and purchase_info.Order Manager # 17:purchase_order.Actual delivery quantity and purchase_info.delivery date # 18:purchase_order.Order ID and purchase_info.purchasing number # 19:purchase_order.Supplier Name and purchase_info.Supplier Company candidate # 20:purchase_order.Supplier Name and purchase_info.product name # 21:purchase_order.Product and purchase_info.product price # 22:purchase_order.Quantity and purchase_info.purchasing number # 23:purchase_order.Order ID and purchase_info.delivery date # 24:purchase_order.Undelivered quantity and purchase_info.purchasing number # ? please answer with [yes or no] for each verification task. and give the reason'"
      ]
     },
     "execution_count": 14,
     "metadata": {},
     "output_type": "execute_result"
    }
   ],
   "source": [
    "path = \"./data/purchase.json\"\n",
    "# path = \"./data/author1.json\"\n",
    "prompt(path)"
   ]
  },
  {
   "cell_type": "code",
   "execution_count": 11,
   "metadata": {},
   "outputs": [],
   "source": [
    "from re import match, search, split\n",
    "import json\n",
    "\n",
    "def parse_answer(input_file , out_file):\n",
    "    ans = []\n",
    "    with open(input_file, \"r\") as f:\n",
    "        for i in f:\n",
    "            if \"Verification\" in i:\n",
    "                if \"No\" in i:\n",
    "                    ans.append(\"no\")\n",
    "                elif \"Yes\" in i:\n",
    "                    ans.append(\"yes\")\n",
    "                \n",
    "    with open(out_file, \"w\") as w:\n",
    "        json.dump(ans, w, indent=2, ensure_ascii=False)"
   ]
  },
  {
   "cell_type": "code",
   "execution_count": 15,
   "metadata": {},
   "outputs": [],
   "source": [
    "input_file = \"./data/purchase_answer.txt\"\n",
    "out_file = \"./data/purchase_ans.json\"\n",
    "parse_answer(input_file, out_file)"
   ]
  },
  {
   "cell_type": "code",
   "execution_count": null,
   "metadata": {},
   "outputs": [
    {
     "name": "stdout",
     "output_type": "stream",
     "text": [
      "Authors Name\n",
      "Verification: No\n",
      "\n",
      "0  not match  [['table_1', 'Authors Name'], ['table_2', 'Authors']]  line  Verification: No\n",
      "\n",
      "ID\n",
      "Reason: The attribute names are similar, but there is a discrepancy in the naming convention, with \"language skill\" in table_1 and \"language\" in table_2.\n",
      "\n",
      "1  not match  [['table_1', 'ID'], ['table_2', 'EID']]  line  Reason: The attribute names are similar, but there is a discrepancy in the naming convention, with \"language skill\" in table_1 and \"language\" in table_2.\n",
      "\n",
      "Cited index\n",
      "table_1.nation and table_2.nationality #\n",
      "\n",
      "2  not match  [['table_1', 'Cited index'], ['table_2', 'Cited by']]  line  table_1.nation and table_2.nationality #\n",
      "\n",
      "Phone Number\n",
      "\n",
      "\n",
      "3  not match  [['table_1', 'Phone Number'], ['table_2', 'Telephone']]  line  \n",
      "\n",
      "Source title\n",
      "Verification: Yes\n",
      "\n",
      "4  not match  [['table_1', 'Source title'], ['table_2', 'Document Type']]  line  Verification: Yes\n",
      "\n",
      "ID\n",
      "Reason: The attributes \"nation\" in table_1 and \"nationality\" in table_2 are similar and likely represent the same information.\n",
      "\n",
      "5  not match  [['table_1', 'ID'], ['table_2', 'City']]  line  Reason: The attributes \"nation\" in table_1 and \"nationality\" in table_2 are similar and likely represent the same information.\n",
      "\n",
      "Paper Title\n",
      "table_1.telephone and table_2.phone #\n",
      "\n",
      "6  not match  [['table_1', 'Paper Title'], ['table_2', 'Document Type']]  line  table_1.telephone and table_2.phone #\n",
      "\n",
      "ID\n",
      "\n",
      "\n",
      "7  not match  [['table_1', 'ID'], ['table_2', 'Country']]  line  \n",
      "\n",
      "Source title\n",
      "Verification: Yes\n",
      "\n",
      "8  not match  [['table_1', 'Source title'], ['table_2', 'aggregationType']]  line  Verification: Yes\n",
      "\n",
      "Authors Name\n",
      "Reason: The attributes \"telephone\" in table_1 and \"phone\" in table_2 are similar and likely represent contact information.\n",
      "\n",
      "9  not match  [['table_1', 'Authors Name'], ['table_2', 'City']]  line  Reason: The attributes \"telephone\" in table_1 and \"phone\" in table_2 are similar and likely represent contact information.\n",
      "\n"
     ]
    }
   ],
   "source": [
    "## checking process \n",
    "# if no bugs will not output anything\n",
    "\n",
    "import json \n",
    "with open(\"/root/autodl-tmp/valentine/examples/data/author1.json\", \"r\") as f:\n",
    "    content = json.load(f)\n",
    "c_s = content[\"correspondence_set\"]\n",
    "with open(\"./data/employee_answer.txt\", \"r\") as f:\n",
    "    c_l = f.readlines()\n",
    "for idx, c in enumerate(c_s):\n",
    "    if c[0][1] not in c_l[idx]:\n",
    "        print(c[0][1])\n",
    "        print(c_l[idx])\n",
    "        print(idx, \" not match \", c, \" line \", c_l[idx])"
   ]
  }
 ],
 "metadata": {
  "kernelspec": {
   "display_name": "Python 3.8.10 ('base')",
   "language": "python",
   "name": "python3"
  },
  "language_info": {
   "codemirror_mode": {
    "name": "ipython",
    "version": 3
   },
   "file_extension": ".py",
   "mimetype": "text/x-python",
   "name": "python",
   "nbconvert_exporter": "python",
   "pygments_lexer": "ipython3",
   "version": "3.8.10"
  },
  "vscode": {
   "interpreter": {
    "hash": "2f394aca7ca06fed1e6064aef884364492d7cdda3614a461e02e6407fc40ba69"
   }
  }
 },
 "nbformat": 4,
 "nbformat_minor": 2
}
