{
 "cells": [
  {
   "cell_type": "markdown",
   "metadata": {},
   "source": [
    "### 读入tools 生成的possible matchings"
   ]
  },
  {
   "cell_type": "code",
   "execution_count": 1,
   "metadata": {
    "ExecutionIndicator": {
     "show": true
    },
    "execution": {
     "iopub.execute_input": "2023-11-07T11:23:48.614786Z",
     "iopub.status.busy": "2023-11-07T11:23:48.614619Z",
     "iopub.status.idle": "2023-11-07T11:23:48.620921Z",
     "shell.execute_reply": "2023-11-07T11:23:48.620516Z",
     "shell.execute_reply.started": "2023-11-07T11:23:48.614771Z"
    },
    "tags": []
   },
   "outputs": [],
   "source": [
    "\n",
    "matchings_path = \"./dataset/employee.json\"\n",
    "answers_path = \"./dataset/employee_ans.json\"\n",
    "# matchings_path = \"./dataset/author.json\"\n",
    "# answers_path = \"./dataset/author_ans.json\"\n",
    "matchings_path = \"./dataset/purchase.json\"\n",
    "answers_path = \"./dataset/purchase_ans.json\"\n",
    "dataset_name = \"author\"\n",
    "# dataset_name = \"employee\"\n",
    "\n",
    "#LLM 预测准确率\n",
    "p_w = 0.917\n",
    "api_use = False\n",
    "# 每个token 一个\n",
    "budget = 10 # 单位为 price of one token  \n",
    "total_turns =20"
   ]
  },
  {
   "cell_type": "code",
   "execution_count": 2,
   "metadata": {
    "execution": {
     "iopub.execute_input": "2023-11-07T11:23:48.621699Z",
     "iopub.status.busy": "2023-11-07T11:23:48.621399Z",
     "iopub.status.idle": "2023-11-07T11:23:50.932065Z",
     "shell.execute_reply": "2023-11-07T11:23:50.931443Z",
     "shell.execute_reply.started": "2023-11-07T11:23:48.621681Z"
    }
   },
   "outputs": [],
   "source": [
    "from fact import FactSet\n",
    "from llm_api import gpt_check\n",
    "import numpy as np\n",
    "import json\n",
    "import time\n",
    "\n",
    "with open(matchings_path, \"r\") as f:\n",
    "    content = json.load(f)"
   ]
  },
  {
   "cell_type": "markdown",
   "metadata": {},
   "source": [
    "### 初始化 chatgpt 的 tokenzier，用于估计correspondence 的cost func"
   ]
  },
  {
   "cell_type": "code",
   "execution_count": 3,
   "metadata": {
    "execution": {
     "iopub.execute_input": "2023-11-07T11:23:50.933247Z",
     "iopub.status.busy": "2023-11-07T11:23:50.932893Z",
     "iopub.status.idle": "2023-11-07T11:23:51.167738Z",
     "shell.execute_reply": "2023-11-07T11:23:51.167213Z",
     "shell.execute_reply.started": "2023-11-07T11:23:50.933221Z"
    }
   },
   "outputs": [],
   "source": [
    "import tiktoken\n",
    "encoding = tiktoken.encoding_for_model(\"gpt-3.5-turbo\")"
   ]
  },
  {
   "cell_type": "markdown",
   "metadata": {},
   "source": [
    "### process 统计，factset 需要的数据"
   ]
  },
  {
   "cell_type": "code",
   "execution_count": 4,
   "metadata": {
    "execution": {
     "iopub.execute_input": "2023-11-07T11:23:51.169398Z",
     "iopub.status.busy": "2023-11-07T11:23:51.169085Z",
     "iopub.status.idle": "2023-11-07T11:23:51.749503Z",
     "shell.execute_reply": "2023-11-07T11:23:51.749027Z",
     "shell.execute_reply.started": "2023-11-07T11:23:51.169376Z"
    }
   },
   "outputs": [],
   "source": [
    "def process(content):\n",
    "    import numpy as np\n",
    "    c_set = content[\"correspondence_set\"]\n",
    "    # chatgpt 的tokens 的num list\n",
    "    len_list = [len(encoding.encode(i[0][1]+i[1][1])) for i in c_set]\n",
    "    len_list.sort()\n",
    "    least_len = sum(len_list[:3])\n",
    "    matchings = content[\"matchings\"]\n",
    "    Views = []\n",
    "    for match in matchings:\n",
    "        view = []\n",
    "        for c in c_set:\n",
    "            if c in match:\n",
    "                view.append(1)\n",
    "            else:\n",
    "                view.append(0)\n",
    "        Views.append(view)\n",
    "    return np.array(Views), np.array(content[\"prob_all\"]), np.array(len_list), least_len, sum(len_list), c_set"
   ]
  },
  {
   "cell_type": "markdown",
   "metadata": {},
   "source": [
    "### 处理后生成 facts "
   ]
  },
  {
   "cell_type": "code",
   "execution_count": 5,
   "metadata": {
    "execution": {
     "iopub.execute_input": "2023-11-07T11:23:51.750371Z",
     "iopub.status.busy": "2023-11-07T11:23:51.750153Z",
     "iopub.status.idle": "2023-11-07T11:23:52.229759Z",
     "shell.execute_reply": "2023-11-07T11:23:52.229268Z",
     "shell.execute_reply.started": "2023-11-07T11:23:51.750357Z"
    }
   },
   "outputs": [
    {
     "name": "stdout",
     "output_type": "stream",
     "text": [
      "max_cost:  9 note that budget of each round must > 9 and < 111:\n"
     ]
    }
   ],
   "source": [
    "facts, prob, len_list, least_len, sum_c, c_set = process(content)\n",
    "print(\"max_cost: \", least_len, f\"note that budget of each round must > {least_len} and < {sum_c}:\")\n",
    "ex_fact = FactSet(facts=facts, prior_p=prob, ground_true=2, len_list=len_list)\n",
    "random_fact = FactSet(facts=facts, prior_p=prob, ground_true=2, len_list=len_list)\n",
    "brute_fact = FactSet(facts=facts, prior_p=prob, ground_true=2, len_list=len_list)\n",
    "heuristic_fact = FactSet(facts=facts, prior_p=prob, ground_true=2, len_list=len_list)"
   ]
  },
  {
   "cell_type": "markdown",
   "metadata": {},
   "source": [
    "## selector to select correspondence"
   ]
  },
  {
   "cell_type": "markdown",
   "metadata": {},
   "source": [
    "### 初始化 selector"
   ]
  },
  {
   "cell_type": "code",
   "execution_count": 6,
   "metadata": {
    "execution": {
     "iopub.execute_input": "2023-11-07T11:23:52.230614Z",
     "iopub.status.busy": "2023-11-07T11:23:52.230375Z",
     "iopub.status.idle": "2023-11-07T11:23:52.738759Z",
     "shell.execute_reply": "2023-11-07T11:23:52.738266Z",
     "shell.execute_reply.started": "2023-11-07T11:23:52.230599Z"
    }
   },
   "outputs": [],
   "source": [
    "from query import QuerySelector, BaseQuerySelector, GreedyQuerySelector,RandomQuerySelector, HeuristicQuerySelector\n",
    " # 对应fact1, 3是0.8, 0.\n",
    "query_selector = GreedyQuerySelector()\n",
    "# selection_idxes, sub_facts, h = query_selector.select(ex_fact, 2, accuracy, cost_func=2)\n",
    "random_selector = RandomQuerySelector()\n",
    "base_selector = BaseQuerySelector()\n",
    "h_selector = HeuristicQuerySelector()"
   ]
  },
  {
   "cell_type": "markdown",
   "metadata": {},
   "source": [
    "## LLM答案dict\n",
    "## 由于数量问题，模拟实验，从web chatgpt端，得到所有的correpspondence 验证答案"
   ]
  },
  {
   "cell_type": "code",
   "execution_count": 7,
   "metadata": {
    "execution": {
     "iopub.execute_input": "2023-11-07T11:23:52.739628Z",
     "iopub.status.busy": "2023-11-07T11:23:52.739361Z",
     "iopub.status.idle": "2023-11-07T11:23:53.788047Z",
     "shell.execute_reply": "2023-11-07T11:23:53.787551Z",
     "shell.execute_reply.started": "2023-11-07T11:23:52.739611Z"
    }
   },
   "outputs": [],
   "source": [
    "import json\n",
    "with open(answers_path, \"r\") as f:\n",
    "    ans_list = json.load(f)"
   ]
  },
  {
   "cell_type": "markdown",
   "metadata": {},
   "source": [
    "### 参数设置"
   ]
  },
  {
   "cell_type": "code",
   "execution_count": 8,
   "metadata": {
    "execution": {
     "iopub.execute_input": "2023-11-07T11:23:53.788909Z",
     "iopub.status.busy": "2023-11-07T11:23:53.788694Z",
     "iopub.status.idle": "2023-11-07T11:23:54.037137Z",
     "shell.execute_reply": "2023-11-07T11:23:54.036682Z",
     "shell.execute_reply.started": "2023-11-07T11:23:53.788895Z"
    }
   },
   "outputs": [],
   "source": [
    "c_len = ex_fact.num_fact()\n",
    "# 计算p(A_T) 和 P(A_T|v) 需要的LLM array:acc \n",
    "acc = np.array([[p_w for i in range(c_len)]])"
   ]
  },
  {
   "cell_type": "code",
   "execution_count": 9,
   "metadata": {
    "execution": {
     "iopub.execute_input": "2023-11-07T11:23:54.037964Z",
     "iopub.status.busy": "2023-11-07T11:23:54.037759Z",
     "iopub.status.idle": "2023-11-07T11:23:54.315624Z",
     "shell.execute_reply": "2023-11-07T11:23:54.315133Z",
     "shell.execute_reply.started": "2023-11-07T11:23:54.037950Z"
    }
   },
   "outputs": [],
   "source": [
    "def post_p_caculate(prior_p, p_a_v, p_a):\n",
    "    return prior_p*p_a_v / p_a"
   ]
  },
  {
   "cell_type": "markdown",
   "metadata": {},
   "source": [
    "####  our近似算法"
   ]
  },
  {
   "cell_type": "code",
   "execution_count": 10,
   "metadata": {
    "execution": {
     "iopub.execute_input": "2023-11-07T11:23:54.316443Z",
     "iopub.status.busy": "2023-11-07T11:23:54.316229Z",
     "iopub.status.idle": "2023-11-07T11:23:56.161342Z",
     "shell.execute_reply": "2023-11-07T11:23:56.160868Z",
     "shell.execute_reply.started": "2023-11-07T11:23:54.316428Z"
    }
   },
   "outputs": [
    {
     "name": "stdout",
     "output_type": "stream",
     "text": [
      "approx:1.593247890472412 s\n"
     ]
    }
   ],
   "source": [
    "import numpy as np\n",
    "import time\n",
    "approx_h_list=[ex_fact.compute_entropy()]\n",
    "\n",
    "cost_sum = 0\n",
    "turns = total_turns \n",
    "start = time.time()\n",
    "while turns>0:\n",
    "    selection_idxes, sub_facts, h = query_selector.select(ex_fact, budget, acc, cost_func=2)\n",
    "    if api_use:\n",
    "         ans = [1 if gpt_check(ix_r, c_set)==\"yes\" else 0 for ix_r in selection_idxes]\n",
    "    else:\n",
    "        ans = [1 if ans_list[ix_r]==\"yes\" else 0 for ix_r in selection_idxes]\n",
    "    p_a,p_a_v = ex_fact.compute_ans_p(ans, selection_idxes, acc)\n",
    "    p_post = ex_fact.get_prior_p()*p_a_v/p_a\n",
    "    ex_fact.set_prior_p(p_post)\n",
    "    approx_h_list.append(ex_fact.compute_entropy())\n",
    "    turns -=1\n",
    "end = time.time()\n",
    "\n",
    "approx_timecost = end - start\n",
    "print(\"approx:{} s\".format(approx_timecost))"
   ]
  },
  {
   "cell_type": "markdown",
   "metadata": {},
   "source": [
    "## random 算法"
   ]
  },
  {
   "cell_type": "code",
   "execution_count": 11,
   "metadata": {
    "execution": {
     "iopub.execute_input": "2023-11-07T11:23:56.162212Z",
     "iopub.status.busy": "2023-11-07T11:23:56.161995Z",
     "iopub.status.idle": "2023-11-07T11:23:56.994739Z",
     "shell.execute_reply": "2023-11-07T11:23:56.994217Z",
     "shell.execute_reply.started": "2023-11-07T11:23:56.162197Z"
    }
   },
   "outputs": [],
   "source": [
    "all_h_list = []\n",
    "cost_list = []\n",
    "p_prior = random_fact.get_prior_p()\n",
    "for _ in range(100):\n",
    "    cost_sum_r = 0\n",
    "    random_fact.set_prior_p(p_prior)\n",
    "    turns_r=total_turns\n",
    "    random_h_list=[random_fact.compute_entropy()]\n",
    "    random_selection_idxes, _, _  =  random_selector.select(random_fact, budget, acc)\n",
    "    while turns_r>0:\n",
    "      \n",
    "        if api_use:\n",
    "            ans_r = [1 if gpt_check(ix_r, c_set)==\"yes\" else 0 for ix_r in random_selection_idxes]\n",
    "        else:\n",
    "            ans_r = [1 if ans_list[ix_r]==\"yes\" else 0 for ix_r in random_selection_idxes]\n",
    "        p_a_r,p_a_v_r = random_fact.compute_ans_p(ans_r, random_selection_idxes, acc)\n",
    "        p_post = random_fact.get_prior_p()*p_a_v / p_a\n",
    "        random_fact.set_prior_p(p_post)\n",
    "        random_h_list.append(random_fact.compute_entropy())\n",
    "        turns_r -=1\n",
    "    all_h_list.append(random_h_list)\n",
    "    cost_list.append(cost_sum_r)"
   ]
  },
  {
   "cell_type": "markdown",
   "metadata": {},
   "source": [
    "## Brute Algorithm"
   ]
  },
  {
   "cell_type": "code",
   "execution_count": 12,
   "metadata": {
    "ExecutionIndicator": {
     "show": false
    },
    "execution": {
     "iopub.execute_input": "2023-11-07T11:23:56.995629Z",
     "iopub.status.busy": "2023-11-07T11:23:56.995371Z",
     "iopub.status.idle": "2023-11-07T11:24:00.331656Z",
     "shell.execute_reply": "2023-11-07T11:24:00.331174Z",
     "shell.execute_reply.started": "2023-11-07T11:23:56.995611Z"
    },
    "tags": []
   },
   "outputs": [
    {
     "name": "stdout",
     "output_type": "stream",
     "text": [
      "brute:2.3611083030700684 s\n"
     ]
    }
   ],
   "source": [
    "import numpy as np\n",
    "import time\n",
    "\n",
    "brute_h_list=[brute_fact.compute_entropy()]\n",
    "cost_sum = 0\n",
    "turns = total_turns \n",
    "start = time.time()\n",
    "while turns>0:\n",
    "    selection_idxes, sub_facts, h = base_selector.select(brute_fact, budget, acc)\n",
    "    if api_use:\n",
    "         ans = [1 if gpt_check(ix_r, c_set)==\"yes\" else 0 for ix_r in selection_idxes]\n",
    "    else:\n",
    "        ans = [1 if ans_list[ix_r]==\"yes\" else 0 for ix_r in selection_idxes]\n",
    "    p_a,p_a_v = brute_fact.compute_ans_p(ans, selection_idxes, acc)\n",
    "    p_post = brute_fact.get_prior_p()*p_a_v / p_a\n",
    "    brute_fact.set_prior_p(p_post)\n",
    "    brute_h_list.append(brute_fact.compute_entropy())\n",
    "    turns -= 1\n",
    "end = time.time()\n",
    "\n",
    "brute_timecost = end - start\n",
    "print(\"brute:{} s\".format(brute_timecost))"
   ]
  },
  {
   "cell_type": "markdown",
   "metadata": {},
   "source": [
    "## Heuristic 算法"
   ]
  },
  {
   "cell_type": "code",
   "execution_count": 13,
   "metadata": {
    "ExecutionIndicator": {
     "show": true
    },
    "execution": {
     "iopub.execute_input": "2023-11-07T11:24:00.333517Z",
     "iopub.status.busy": "2023-11-07T11:24:00.333288Z",
     "iopub.status.idle": "2023-11-07T11:24:00.336005Z",
     "shell.execute_reply": "2023-11-07T11:24:00.335525Z",
     "shell.execute_reply.started": "2023-11-07T11:24:00.333501Z"
    },
    "tags": []
   },
   "outputs": [],
   "source": [
    "# heuristic_h_list=[heuristic_fact.compute_entropy()]\n",
    "# cost_sum = 0\n",
    "# turns = total_turns \n",
    "# start = time.time()\n",
    "# while turns>0:\n",
    "#     selection_idxes, sub_facts, h = h_selector.select(heuristic_fact, budget, acc, max_iters=10, cost_func=2)\n",
    "#     if api_use:\n",
    "#          ans = [1 if gpt_check(ix_r, c_set)==\"yes\" else 0 for ix_r in selection_idxes]\n",
    "#     else:\n",
    "#         ans = [1 if ans_list[ix_r]==\"yes\" else 0 for ix_r in selection_idxes]\n",
    "#     p_a,p_a_v = heuristic_fact.compute_ans_p(ans, selection_idxes, acc)\n",
    "#     p_post = heuristic_fact.get_prior_p()*p_a_v / p_a\n",
    "#     heuristic_fact.set_prior_p(p_post)\n",
    "#     heuristic_h_list.append(heuristic_fact.compute_entropy())\n",
    "#     turns -=1\n",
    "# end = time.time()\n",
    "\n",
    "# heuristic_timecost = end - start\n",
    "# print(\"heuristic: {}\".format(heuristic_timecost))"
   ]
  },
  {
   "cell_type": "markdown",
   "metadata": {},
   "source": [
    "approx_entropies"
   ]
  },
  {
   "cell_type": "code",
   "execution_count": 14,
   "metadata": {
    "execution": {
     "iopub.execute_input": "2023-11-07T11:24:00.336739Z",
     "iopub.status.busy": "2023-11-07T11:24:00.336524Z",
     "iopub.status.idle": "2023-11-07T11:24:00.341052Z",
     "shell.execute_reply": "2023-11-07T11:24:00.340629Z",
     "shell.execute_reply.started": "2023-11-07T11:24:00.336725Z"
    }
   },
   "outputs": [
    {
     "data": {
      "text/plain": [
       "[2.524036208602731,\n",
       " 2.12485216899556,\n",
       " 1.2997573169602883,\n",
       " 0.2695479698312213,\n",
       " 0.07517232246648327,\n",
       " 0.024949054661128102,\n",
       " 0.003463698461885738,\n",
       " 0.00105368412312793,\n",
       " 0.00031592810083154254,\n",
       " 4.8198101523844665e-05,\n",
       " 1.2468004286670111e-05,\n",
       " 3.6069223723578727e-06,\n",
       " 4.502870312009741e-07,\n",
       " 1.2572119153165208e-07,\n",
       " 3.678690757791902e-08,\n",
       " 4.496091590832251e-09,\n",
       " 1.26022525674622e-09,\n",
       " 3.6449109569707313e-10,\n",
       " 4.383476745223963e-11,\n",
       " 1.2249805798276848e-11,\n",
       " 3.5070807709703505e-12]"
      ]
     },
     "execution_count": 14,
     "metadata": {},
     "output_type": "execute_result"
    }
   ],
   "source": [
    "approx_h_list"
   ]
  },
  {
   "cell_type": "markdown",
   "metadata": {},
   "source": [
    "random_entropies"
   ]
  },
  {
   "cell_type": "code",
   "execution_count": 15,
   "metadata": {
    "execution": {
     "iopub.execute_input": "2023-11-07T11:24:00.341755Z",
     "iopub.status.busy": "2023-11-07T11:24:00.341548Z",
     "iopub.status.idle": "2023-11-07T11:24:00.345135Z",
     "shell.execute_reply": "2023-11-07T11:24:00.344771Z",
     "shell.execute_reply.started": "2023-11-07T11:24:00.341741Z"
    }
   },
   "outputs": [
    {
     "data": {
      "text/plain": [
       "[2.5240362086027286,\n",
       " 0.9352761045628025,\n",
       " 0.7064911306468166,\n",
       " 0.6747638701556531,\n",
       " 0.6708239055252609,\n",
       " 0.6703696616025847,\n",
       " 0.6703196996900685,\n",
       " 0.6703143766224519,\n",
       " 0.6703138223266903,\n",
       " 0.6703137655947041,\n",
       " 0.6703137598659908,\n",
       " 0.6703137592938491,\n",
       " 0.6703137592373323,\n",
       " 0.6703137592319102,\n",
       " 0.6703137592315135,\n",
       " 0.6703137592316094,\n",
       " 0.6703137592317515,\n",
       " 0.6703137592318968,\n",
       " 0.6703137592320446,\n",
       " 0.6703137592321922,\n",
       " 0.6703137592323378]"
      ]
     },
     "execution_count": 15,
     "metadata": {},
     "output_type": "execute_result"
    }
   ],
   "source": [
    "import numpy as np\n",
    "n = np.array(all_h_list)\n",
    "random_h_l = n.mean(axis=0, keepdims=True)\n",
    "random_h_l = random_h_l.tolist()[0]\n",
    "random_h_l"
   ]
  },
  {
   "cell_type": "markdown",
   "metadata": {},
   "source": [
    "heuristic"
   ]
  },
  {
   "cell_type": "code",
   "execution_count": 16,
   "metadata": {
    "ExecutionIndicator": {
     "show": true
    },
    "execution": {
     "iopub.execute_input": "2023-11-07T11:24:00.345814Z",
     "iopub.status.busy": "2023-11-07T11:24:00.345635Z",
     "iopub.status.idle": "2023-11-07T11:24:00.347733Z",
     "shell.execute_reply": "2023-11-07T11:24:00.347333Z",
     "shell.execute_reply.started": "2023-11-07T11:24:00.345802Z"
    },
    "tags": []
   },
   "outputs": [],
   "source": [
    "# heuristic_h_list"
   ]
  },
  {
   "cell_type": "markdown",
   "metadata": {},
   "source": [
    "brute"
   ]
  },
  {
   "cell_type": "code",
   "execution_count": 17,
   "metadata": {
    "execution": {
     "iopub.execute_input": "2023-11-07T11:24:00.348406Z",
     "iopub.status.busy": "2023-11-07T11:24:00.348197Z",
     "iopub.status.idle": "2023-11-07T11:24:00.350933Z",
     "shell.execute_reply": "2023-11-07T11:24:00.350577Z",
     "shell.execute_reply.started": "2023-11-07T11:24:00.348393Z"
    }
   },
   "outputs": [
    {
     "data": {
      "text/plain": [
       "[2.524036208602731,\n",
       " 2.12485216899556,\n",
       " 1.0179294675032036,\n",
       " 0.26944913672100756,\n",
       " 0.1067257369385377,\n",
       " 0.0244665812032426,\n",
       " 0.0034636970736634624,\n",
       " 0.0010034737585147074,\n",
       " 0.0002552663038275721,\n",
       " 4.0219187503933775e-05,\n",
       " 1.1500945637089379e-05,\n",
       " 3.4441891031763675e-06,\n",
       " 4.388804669406914e-07,\n",
       " 1.2453409503733517e-07,\n",
       " 2.956612434210812e-08,\n",
       " 4.36238654750156e-09,\n",
       " 1.230819983934273e-09,\n",
       " 3.539992606087513e-10,\n",
       " 4.330737693625425e-11,\n",
       " 1.219612065508093e-11,\n",
       " 2.8189686880593766e-12]"
      ]
     },
     "execution_count": 17,
     "metadata": {},
     "output_type": "execute_result"
    }
   ],
   "source": [
    "brute_h_list"
   ]
  },
  {
   "cell_type": "code",
   "execution_count": 18,
   "metadata": {
    "execution": {
     "iopub.execute_input": "2023-11-07T11:24:00.351659Z",
     "iopub.status.busy": "2023-11-07T11:24:00.351417Z",
     "iopub.status.idle": "2023-11-07T11:24:00.355071Z",
     "shell.execute_reply": "2023-11-07T11:24:00.354652Z",
     "shell.execute_reply.started": "2023-11-07T11:24:00.351645Z"
    }
   },
   "outputs": [],
   "source": [
    "import json\n",
    "dataset = \"output\"\n",
    "def save_h_file(approx_name_f,random_f, brute_name_f, heuristic_name_f, approx_ob, random_ob, brute_ob, heuristic_ob):\n",
    "    with open(f\"./{dataset}/\"+approx_name_f, \"w\") as f:\n",
    "        json.dump(approx_ob, f, indent=2, ensure_ascii=False)\n",
    "    \n",
    "    with open(f\"./{dataset}/\"+random_f, \"w\") as w:\n",
    "        json.dump(random_ob, w, indent=2, ensure_ascii=False)\n",
    "        \n",
    "    with open(f\"./{dataset}/\"+brute_name_f, \"w\") as f2:\n",
    "        json.dump(brute_ob, f2, indent=2, ensure_ascii=False)\n",
    "        \n",
    "    with open(f\"./{dataset}/\"+ heuristic_name_f, \"w\") as f3:\n",
    "        json.dump(heuristic_ob, f3, indent=2, ensure_ascii=False)"
   ]
  },
  {
   "cell_type": "code",
   "execution_count": 20,
   "metadata": {
    "ExecutionIndicator": {
     "show": true
    },
    "execution": {
     "iopub.execute_input": "2023-11-07T11:24:55.784642Z",
     "iopub.status.busy": "2023-11-07T11:24:55.784319Z",
     "iopub.status.idle": "2023-11-07T11:24:55.787792Z",
     "shell.execute_reply": "2023-11-07T11:24:55.787327Z",
     "shell.execute_reply.started": "2023-11-07T11:24:55.784616Z"
    },
    "tags": []
   },
   "outputs": [],
   "source": [
    "approx = {\"entropy\":approx_h_list, \"timecost\":approx_timecost, \"prob\":list(ex_fact.get_prior_p())}\n",
    "random = {\"entropy\":random_h_list, \"timecost\":0, \"prob\":list(random_fact.get_prior_p())}\n",
    "brute = {\"entropy\":brute_h_list, \"timecost\":brute_timecost, \"prob\":list(brute_fact.get_prior_p())}\n",
    "# heuristic = {\"entropy\":heuristic_h_list, \"timecost\":heuristic_timecost, \"prob\":list(heuristic_fact.get_prior_p())}"
   ]
  },
  {
   "cell_type": "code",
   "execution_count": 21,
   "metadata": {
    "execution": {
     "iopub.execute_input": "2023-11-07T11:24:57.095694Z",
     "iopub.status.busy": "2023-11-07T11:24:57.095359Z",
     "iopub.status.idle": "2023-11-07T11:24:57.111654Z",
     "shell.execute_reply": "2023-11-07T11:24:57.111078Z",
     "shell.execute_reply.started": "2023-11-07T11:24:57.095675Z"
    },
    "tags": []
   },
   "outputs": [
    {
     "ename": "NameError",
     "evalue": "name 'heuristic' is not defined",
     "output_type": "error",
     "traceback": [
      "\u001b[0;31m---------------------------------------------------------------------------\u001b[0m",
      "\u001b[0;31mNameError\u001b[0m                                 Traceback (most recent call last)",
      "Cell \u001b[0;32mIn[21], line 4\u001b[0m\n\u001b[1;32m      1\u001b[0m name \u001b[38;5;241m=\u001b[39m \u001b[38;5;124mf\u001b[39m\u001b[38;5;124m\"\u001b[39m\u001b[38;5;124mturns_\u001b[39m\u001b[38;5;132;01m{\u001b[39;00mtotal_turns\u001b[38;5;132;01m}\u001b[39;00m\u001b[38;5;124m\"\u001b[39m \u001b[38;5;241m+\u001b[39m \u001b[38;5;124m\"\u001b[39m\u001b[38;5;124m_budget=\u001b[39m\u001b[38;5;132;01m{}\u001b[39;00m\u001b[38;5;124m_\u001b[39m\u001b[38;5;132;01m{}\u001b[39;00m\u001b[38;5;124m\"\u001b[39m\n\u001b[1;32m      2\u001b[0m save_h_file(name\u001b[38;5;241m.\u001b[39mformat(budget,\u001b[38;5;124mf\u001b[39m\u001b[38;5;124m\"\u001b[39m\u001b[38;5;132;01m{\u001b[39;00mdataset_name\u001b[38;5;132;01m}\u001b[39;00m\u001b[38;5;124m_approx.json\u001b[39m\u001b[38;5;124m\"\u001b[39m), name\u001b[38;5;241m.\u001b[39mformat(budget,\u001b[38;5;124mf\u001b[39m\u001b[38;5;124m\"\u001b[39m\u001b[38;5;132;01m{\u001b[39;00mdataset_name\u001b[38;5;132;01m}\u001b[39;00m\u001b[38;5;124m_random.json\u001b[39m\u001b[38;5;124m\"\u001b[39m),\n\u001b[1;32m      3\u001b[0m             name\u001b[38;5;241m.\u001b[39mformat(budget, \u001b[38;5;124mf\u001b[39m\u001b[38;5;124m\"\u001b[39m\u001b[38;5;132;01m{\u001b[39;00mdataset_name\u001b[38;5;132;01m}\u001b[39;00m\u001b[38;5;124m_heuristic.json\u001b[39m\u001b[38;5;124m\"\u001b[39m), name\u001b[38;5;241m.\u001b[39mformat(budget, \u001b[38;5;124mf\u001b[39m\u001b[38;5;124m\"\u001b[39m\u001b[38;5;132;01m{\u001b[39;00mdataset_name\u001b[38;5;132;01m}\u001b[39;00m\u001b[38;5;124m_brute.json\u001b[39m\u001b[38;5;124m\"\u001b[39m),\n\u001b[0;32m----> 4\u001b[0m             approx, random, \u001b[43mheuristic\u001b[49m, brute)\n",
      "\u001b[0;31mNameError\u001b[0m: name 'heuristic' is not defined"
     ]
    }
   ],
   "source": [
    "name = f\"turns_{total_turns}\" + \"_budget={}_{}\"\n",
    "save_h_file(name.format(budget,f\"{dataset_name}_approx.json\"), name.format(budget,f\"{dataset_name}_random.json\"),\n",
    "            name.format(budget, f\"{dataset_name}_heuristic.json\"), name.format(budget, f\"{dataset_name}_brute.json\"),\n",
    "            approx, random, heuristic, brute)"
   ]
  },
  {
   "cell_type": "code",
   "execution_count": 22,
   "metadata": {
    "execution": {
     "iopub.execute_input": "2023-11-07T11:25:10.661264Z",
     "iopub.status.busy": "2023-11-07T11:25:10.660945Z",
     "iopub.status.idle": "2023-11-07T11:25:10.664659Z",
     "shell.execute_reply": "2023-11-07T11:25:10.664242Z",
     "shell.execute_reply.started": "2023-11-07T11:25:10.661244Z"
    },
    "tags": []
   },
   "outputs": [
    {
     "data": {
      "text/plain": [
       "{'entropy': [2.524036208602731,\n",
       "  2.12485216899556,\n",
       "  1.2997573169602883,\n",
       "  0.2695479698312213,\n",
       "  0.07517232246648327,\n",
       "  0.024949054661128102,\n",
       "  0.003463698461885738,\n",
       "  0.00105368412312793,\n",
       "  0.00031592810083154254,\n",
       "  4.8198101523844665e-05,\n",
       "  1.2468004286670111e-05,\n",
       "  3.6069223723578727e-06,\n",
       "  4.502870312009741e-07,\n",
       "  1.2572119153165208e-07,\n",
       "  3.678690757791902e-08,\n",
       "  4.496091590832251e-09,\n",
       "  1.26022525674622e-09,\n",
       "  3.6449109569707313e-10,\n",
       "  4.383476745223963e-11,\n",
       "  1.2249805798276848e-11,\n",
       "  3.5070807709703505e-12],\n",
       " 'timecost': 1.593247890472412,\n",
       " 'prob': [7.115321105261693e-19,\n",
       "  7.115321105261693e-19,\n",
       "  1.9375713667440716e-32,\n",
       "  1.9375713667440716e-32,\n",
       "  0.9999999999998914,\n",
       "  2.4224079738243198e-15,\n",
       "  2.7018651674951487e-14,\n",
       "  6.545019725939145e-29,\n",
       "  2.717999410571602e-14,\n",
       "  6.584103445019168e-29,\n",
       "  2.59537115612204e-14,\n",
       "  6.287047783624355e-29,\n",
       "  7.012342923448502e-28,\n",
       "  1.6986755412954053e-42,\n",
       "  7.054217272555002e-28,\n",
       "  1.7088192170128338e-42,\n",
       "  2.59537115612204e-14,\n",
       "  6.287047783624351e-29,\n",
       "  7.012342923448502e-28,\n",
       "  1.6986755412954053e-42,\n",
       "  7.054217272555002e-28,\n",
       "  1.7088192170128335e-42,\n",
       "  2.867357964371789e-42]}"
      ]
     },
     "execution_count": 22,
     "metadata": {},
     "output_type": "execute_result"
    }
   ],
   "source": [
    "approx"
   ]
  },
  {
   "cell_type": "code",
   "execution_count": null,
   "metadata": {
    "execution": {
     "iopub.status.busy": "2023-11-07T11:24:00.498745Z",
     "iopub.status.idle": "2023-11-07T11:24:00.498919Z",
     "shell.execute_reply": "2023-11-07T11:24:00.498836Z",
     "shell.execute_reply.started": "2023-11-07T11:24:00.498828Z"
    }
   },
   "outputs": [],
   "source": [
    "import time\n",
    "start = time.time()\n",
    "end = time.time()\n",
    "end - start"
   ]
  },
  {
   "cell_type": "code",
   "execution_count": null,
   "metadata": {
    "execution": {
     "iopub.status.busy": "2023-11-07T11:24:00.499546Z",
     "iopub.status.idle": "2023-11-07T11:24:00.499805Z",
     "shell.execute_reply": "2023-11-07T11:24:00.499722Z",
     "shell.execute_reply.started": "2023-11-07T11:24:00.499713Z"
    }
   },
   "outputs": [],
   "source": [
    "print( type(end-start))"
   ]
  },
  {
   "cell_type": "code",
   "execution_count": null,
   "metadata": {},
   "outputs": [],
   "source": []
  }
 ],
 "metadata": {
  "kernelspec": {
   "display_name": "Python 3 (ipykernel)",
   "language": "python",
   "name": "python3"
  },
  "language_info": {
   "codemirror_mode": {
    "name": "ipython",
    "version": 3
   },
   "file_extension": ".py",
   "mimetype": "text/x-python",
   "name": "python",
   "nbconvert_exporter": "python",
   "pygments_lexer": "ipython3",
   "version": "3.8.16"
  },
  "vscode": {
   "interpreter": {
    "hash": "2f394aca7ca06fed1e6064aef884364492d7cdda3614a461e02e6407fc40ba69"
   }
  }
 },
 "nbformat": 4,
 "nbformat_minor": 4
}
