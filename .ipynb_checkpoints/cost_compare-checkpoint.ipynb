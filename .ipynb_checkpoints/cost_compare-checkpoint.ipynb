{
 "cells": [
  {
   "cell_type": "code",
   "execution_count": 20,
   "metadata": {},
   "outputs": [],
   "source": [
    "matchings_path = \"./data/employee.json\"\n",
    "answers_path = \"./dataset/employee_ans.json\""
   ]
  },
  {
   "cell_type": "code",
   "execution_count": 21,
   "metadata": {},
   "outputs": [],
   "source": [
    "from fact import FactSet\n",
    "import numpy as np\n",
    "import json\n",
    "from llm_api import gpt_check\n",
    "\n",
    "with open(matchings_path, \"r\") as f:\n",
    "    content = json.load(f)"
   ]
  },
  {
   "cell_type": "code",
   "execution_count": 22,
   "metadata": {},
   "outputs": [],
   "source": [
    "import tiktoken\n",
    "encoding = tiktoken.encoding_for_model(\"gpt-3.5-turbo\")"
   ]
  },
  {
   "cell_type": "code",
   "execution_count": 23,
   "metadata": {},
   "outputs": [],
   "source": [
    "def process(content):\n",
    "    import numpy as np\n",
    "    c_set = content[\"correspondence_set\"]\n",
    "    # chatgpt 的tokens 的num list\n",
    "    len_list = [len(encoding.encode(i[0][1]+i[1][1])) for i in c_set]\n",
    "    matchings = content[\"matchings\"]\n",
    "    Views = []\n",
    "    for match in matchings:\n",
    "        view = []\n",
    "        for c in c_set:\n",
    "            if c in match:\n",
    "                view.append(1)\n",
    "            else:\n",
    "                view.append(0)\n",
    "        Views.append(view)\n",
    "    return np.array(Views), np.array(content[\"prob_all\"]), np.array(len_list)"
   ]
  },
  {
   "cell_type": "code",
   "execution_count": 24,
   "metadata": {},
   "outputs": [],
   "source": [
    "facts, prob, len_list = process(content)\n",
    "ex_fact = FactSet(facts=facts, prior_p=prob, ground_true=2, len_list=len_list)\n",
    "cost_fact = FactSet(facts=facts, prior_p=prob, ground_true=2, len_list=len_list)\n",
    "brute_fact = FactSet(facts=facts, prior_p=prob, ground_true=2, len_list=len_list)"
   ]
  },
  {
   "cell_type": "code",
   "execution_count": 25,
   "metadata": {},
   "outputs": [
    {
     "data": {
      "text/plain": [
       "(7, 108)"
      ]
     },
     "execution_count": 25,
     "metadata": {},
     "output_type": "execute_result"
    }
   ],
   "source": [
    "max(len_list), sum(len_list)"
   ]
  },
  {
   "cell_type": "code",
   "execution_count": 26,
   "metadata": {},
   "outputs": [],
   "source": [
    "from query import GreedyQuerySelector\n",
    " # 对应fact1, 3是0.8, 0.\n",
    "query_selector = GreedyQuerySelector()\n",
    "# selection_idxes, sub_facts, h = query_selector.select(ex_fact, 2, accuracy, cost_func=2)\n",
    "cost_query_selector = GreedyQuerySelector()"
   ]
  },
  {
   "cell_type": "code",
   "execution_count": 27,
   "metadata": {},
   "outputs": [],
   "source": [
    "import json\n",
    "with open(answers_path, \"r\") as f:\n",
    "    ans_list = json.load(f)"
   ]
  },
  {
   "cell_type": "code",
   "execution_count": 28,
   "metadata": {},
   "outputs": [],
   "source": [
    "## params\n",
    "# correspondence num\n",
    "\n",
    "api_use = False\n",
    "c_len = ex_fact.num_fact()\n",
    "\n",
    "#LLM 预测准确率\n",
    "p_w = 0.8\n",
    "# 计算p(A_T) 和 P(A_T|v) 需要的LLM array:acc \n",
    "acc = np.array([[p_w for i in range(c_len)]])\n",
    "\n",
    "# 每个token 一个\n",
    "budget = 30# 单位为 price of one token  \n",
    "turns = 20\n",
    "# k-selection 的参数\n",
    "\n",
    "##########################################"
   ]
  },
  {
   "cell_type": "code",
   "execution_count": 29,
   "metadata": {},
   "outputs": [
    {
     "ename": "KeyboardInterrupt",
     "evalue": "",
     "output_type": "error",
     "traceback": [
      "\u001b[0;31m---------------------------------------------------------------------------\u001b[0m",
      "\u001b[0;31mKeyboardInterrupt\u001b[0m                         Traceback (most recent call last)",
      "\u001b[1;32m/root/autodl-tmp/llm/cost_compare.ipynb Cell 10\u001b[0m in \u001b[0;36m<cell line: 11>\u001b[0;34m()\u001b[0m\n\u001b[1;32m     <a href='vscode-notebook-cell://ssh-remote%2B160/root/autodl-tmp/llm/cost_compare.ipynb#X12sdnNjb2RlLXJlbW90ZQ%3D%3D?line=36'>37</a>\u001b[0m ex_fact\u001b[39m.\u001b[39mset_prior_p(np\u001b[39m.\u001b[39marray(sum_p))\n\u001b[1;32m     <a href='vscode-notebook-cell://ssh-remote%2B160/root/autodl-tmp/llm/cost_compare.ipynb#X12sdnNjb2RlLXJlbW90ZQ%3D%3D?line=37'>38</a>\u001b[0m approx_h_list\u001b[39m.\u001b[39mappend(ex_fact\u001b[39m.\u001b[39mcompute_entropy())\n\u001b[0;32m---> <a href='vscode-notebook-cell://ssh-remote%2B160/root/autodl-tmp/llm/cost_compare.ipynb#X12sdnNjb2RlLXJlbW90ZQ%3D%3D?line=39'>40</a>\u001b[0m cost_selection_idxes, sub_facts2, _ \u001b[39m=\u001b[39mcost_query_selector\u001b[39m.\u001b[39;49mselect(cost_fact, budget, acc, cost_func\u001b[39m=\u001b[39;49m\u001b[39m2\u001b[39;49m)\n\u001b[1;32m     <a href='vscode-notebook-cell://ssh-remote%2B160/root/autodl-tmp/llm/cost_compare.ipynb#X12sdnNjb2RlLXJlbW90ZQ%3D%3D?line=40'>41</a>\u001b[0m \u001b[39mif\u001b[39;00m api_use:\n\u001b[1;32m     <a href='vscode-notebook-cell://ssh-remote%2B160/root/autodl-tmp/llm/cost_compare.ipynb#X12sdnNjb2RlLXJlbW90ZQ%3D%3D?line=41'>42</a>\u001b[0m     ans_r \u001b[39m=\u001b[39m [\u001b[39m1\u001b[39m \u001b[39mif\u001b[39;00m gpt_check(ix_r, content[\u001b[39m\"\u001b[39m\u001b[39mcorrespondence_set\u001b[39m\u001b[39m\"\u001b[39m])\u001b[39m==\u001b[39m\u001b[39m\"\u001b[39m\u001b[39myes\u001b[39m\u001b[39m\"\u001b[39m \u001b[39melse\u001b[39;00m \u001b[39m0\u001b[39m \u001b[39mfor\u001b[39;00m ix_r \u001b[39min\u001b[39;00m cost_selection_idxes]\n",
      "File \u001b[0;32m~/autodl-tmp/llm/query.py:144\u001b[0m, in \u001b[0;36mGreedyQuerySelector.select\u001b[0;34m(self, facts, budget, worker_accuracy, cost_func)\u001b[0m\n\u001b[1;32m    142\u001b[0m     \u001b[39mcontinue\u001b[39;00m\n\u001b[1;32m    143\u001b[0m max_selection\u001b[39m.\u001b[39mappend(idx)\n\u001b[0;32m--> 144\u001b[0m sub_facts \u001b[39m=\u001b[39m facts\u001b[39m.\u001b[39;49mget_subset(\u001b[39mlist\u001b[39;49m(max_selection))\n\u001b[1;32m    146\u001b[0m prior_p \u001b[39m=\u001b[39m sub_facts\u001b[39m.\u001b[39mget_prior_p()  \u001b[39m# 初始化prior_p               \u001b[39;00m\n\u001b[1;32m    147\u001b[0m h_gain \u001b[39m=\u001b[39m \u001b[39m0.\u001b[39m\n",
      "File \u001b[0;32m~/autodl-tmp/llm/fact.py:82\u001b[0m, in \u001b[0;36mFactSet.get_subset\u001b[0;34m(self, f_indexes)\u001b[0m\n\u001b[1;32m     79\u001b[0m sub_p: np\u001b[39m.\u001b[39marray \u001b[39m=\u001b[39m np\u001b[39m.\u001b[39mzeros(\u001b[39mlen\u001b[39m(sub_facts))\n\u001b[1;32m     80\u001b[0m \u001b[39mfor\u001b[39;00m i \u001b[39min\u001b[39;00m \u001b[39mrange\u001b[39m(\u001b[39mlen\u001b[39m(sub_facts)):\n\u001b[1;32m     81\u001b[0m     sub_p[i] \u001b[39m=\u001b[39m np\u001b[39m.\u001b[39msum(\n\u001b[0;32m---> 82\u001b[0m         \u001b[39mself\u001b[39m\u001b[39m.\u001b[39m_prior_p[np\u001b[39m.\u001b[39;49mprod(\u001b[39mself\u001b[39;49m\u001b[39m.\u001b[39;49mfacts[:, f_indexes] \u001b[39m==\u001b[39;49m sub_facts[i], axis\u001b[39m=\u001b[39;49m\u001b[39m1\u001b[39;49m) \u001b[39m==\u001b[39m \u001b[39m1\u001b[39m]\n\u001b[1;32m     83\u001b[0m     )\n\u001b[1;32m     84\u001b[0m \u001b[39m# ground_true: 真值对应的facts索引\u001b[39;00m\n\u001b[1;32m     85\u001b[0m sub_ground_true_val \u001b[39m=\u001b[39m \u001b[39mself\u001b[39m\u001b[39m.\u001b[39mfacts[\u001b[39mself\u001b[39m\u001b[39m.\u001b[39m_ground_true, f_indexes]\n",
      "File \u001b[0;32m<__array_function__ internals>:180\u001b[0m, in \u001b[0;36mprod\u001b[0;34m(*args, **kwargs)\u001b[0m\n",
      "File \u001b[0;32m~/miniconda3/lib/python3.8/site-packages/numpy/core/fromnumeric.py:3088\u001b[0m, in \u001b[0;36mprod\u001b[0;34m(a, axis, dtype, out, keepdims, initial, where)\u001b[0m\n\u001b[1;32m   2970\u001b[0m \u001b[39m@array_function_dispatch\u001b[39m(_prod_dispatcher)\n\u001b[1;32m   2971\u001b[0m \u001b[39mdef\u001b[39;00m \u001b[39mprod\u001b[39m(a, axis\u001b[39m=\u001b[39m\u001b[39mNone\u001b[39;00m, dtype\u001b[39m=\u001b[39m\u001b[39mNone\u001b[39;00m, out\u001b[39m=\u001b[39m\u001b[39mNone\u001b[39;00m, keepdims\u001b[39m=\u001b[39mnp\u001b[39m.\u001b[39m_NoValue,\n\u001b[1;32m   2972\u001b[0m          initial\u001b[39m=\u001b[39mnp\u001b[39m.\u001b[39m_NoValue, where\u001b[39m=\u001b[39mnp\u001b[39m.\u001b[39m_NoValue):\n\u001b[1;32m   2973\u001b[0m     \u001b[39m\"\"\"\u001b[39;00m\n\u001b[1;32m   2974\u001b[0m \u001b[39m    Return the product of array elements over a given axis.\u001b[39;00m\n\u001b[1;32m   2975\u001b[0m \n\u001b[0;32m   (...)\u001b[0m\n\u001b[1;32m   3086\u001b[0m \u001b[39m    10\u001b[39;00m\n\u001b[1;32m   3087\u001b[0m \u001b[39m    \"\"\"\u001b[39;00m\n\u001b[0;32m-> 3088\u001b[0m     \u001b[39mreturn\u001b[39;00m _wrapreduction(a, np\u001b[39m.\u001b[39;49mmultiply, \u001b[39m'\u001b[39;49m\u001b[39mprod\u001b[39;49m\u001b[39m'\u001b[39;49m, axis, dtype, out,\n\u001b[1;32m   3089\u001b[0m                           keepdims\u001b[39m=\u001b[39;49mkeepdims, initial\u001b[39m=\u001b[39;49minitial, where\u001b[39m=\u001b[39;49mwhere)\n",
      "File \u001b[0;32m~/miniconda3/lib/python3.8/site-packages/numpy/core/fromnumeric.py:86\u001b[0m, in \u001b[0;36m_wrapreduction\u001b[0;34m(obj, ufunc, method, axis, dtype, out, **kwargs)\u001b[0m\n\u001b[1;32m     83\u001b[0m         \u001b[39melse\u001b[39;00m:\n\u001b[1;32m     84\u001b[0m             \u001b[39mreturn\u001b[39;00m reduction(axis\u001b[39m=\u001b[39maxis, out\u001b[39m=\u001b[39mout, \u001b[39m*\u001b[39m\u001b[39m*\u001b[39mpasskwargs)\n\u001b[0;32m---> 86\u001b[0m \u001b[39mreturn\u001b[39;00m ufunc\u001b[39m.\u001b[39;49mreduce(obj, axis, dtype, out, \u001b[39m*\u001b[39;49m\u001b[39m*\u001b[39;49mpasskwargs)\n",
      "\u001b[0;31mKeyboardInterrupt\u001b[0m: "
     ]
    }
   ],
   "source": [
    "import numpy as np\n",
    "\n",
    "approx_h_list=[ex_fact.compute_entropy()]\n",
    "cost_h_list=[cost_fact.compute_entropy()]\n",
    "\n",
    "have_cost_list = []\n",
    "no_cost_list = []\n",
    "have_cost_sum = 0\n",
    "no_cost_sum = 0\n",
    "\n",
    "while turns>0:\n",
    "    selection_idxes, sub_facts, h = query_selector.select(ex_fact, budget, acc, cost_func=1)\n",
    "    \n",
    "    # for ix in selection_idxes:\n",
    "    #     cost_sum += ex_fact.len_list()[ix]\n",
    "    #     ans=[1 if ans_list[ix]==\"yes\" else 0]\n",
    "    #     p_a, p_a_v = ex_fact.compute_ans_p(ans, [ix], acc)\n",
    "    #     sum_p = []\n",
    "    #     for idx,i in enumerate(ex_fact.get_prior_p()):\n",
    "    #         p_post = i*p_a_v[idx]/p_a\n",
    "    #         sum_p.append(p_post)\n",
    "    #     ex_fact.set_prior_p(np.array(sum_p))\n",
    "    if api_use:\n",
    "         ans_r = [1 if gpt_check(ix_r, content[\"correspondence_set\"])==\"yes\" else 0 for ix_r in selection_idxes]\n",
    "    else:\n",
    "        ans = [1 if ans_list[ix_r]==\"yes\" else 0 for ix_r in selection_idxes]\n",
    "    p_a,p_a_v = ex_fact.compute_ans_p(ans, selection_idxes, acc)\n",
    "    \n",
    "    for ix_nc in selection_idxes.tolist():\n",
    "        no_cost_sum += ex_fact.len_list()[ix_nc]\n",
    "    no_cost_list.append(no_cost_sum)\n",
    "    \n",
    "    sum_p = []\n",
    "    for idx,i in enumerate(ex_fact.get_prior_p()):\n",
    "        p_post = i*p_a_v[idx]/p_a\n",
    "        sum_p.append(p_post)\n",
    "    ex_fact.set_prior_p(np.array(sum_p))\n",
    "    approx_h_list.append(ex_fact.compute_entropy())\n",
    "    \n",
    "    cost_selection_idxes, sub_facts2, _ =cost_query_selector.select(cost_fact, budget, acc, cost_func=2)\n",
    "    if api_use:\n",
    "        ans_r = [1 if gpt_check(ix_r, content[\"correspondence_set\"])==\"yes\" else 0 for ix_r in cost_selection_idxes]\n",
    "    else:\n",
    "        ans_cost = [1 if ans_list[ix_cost]==\"yes\" else 0 for ix_cost in cost_selection_idxes]\n",
    "        \n",
    "    p_a_cost, p_a_v_cost = cost_fact.compute_ans_p(ans_cost, cost_selection_idxes, acc)\n",
    "    \n",
    "    for ix_c in cost_selection_idxes.tolist():\n",
    "        have_cost_sum += cost_fact.len_list()[ix_c]\n",
    "    have_cost_list.append(have_cost_sum)\n",
    "    \n",
    "    sum_p_cost = []\n",
    "    for idx,i in enumerate(cost_fact.get_prior_p()):\n",
    "        p_post_cost = i*p_a_v_cost[idx]/p_a_cost\n",
    "        sum_p_cost.append(p_post_cost)\n",
    "    cost_fact.set_prior_p(np.array(sum_p_cost))\n",
    "    cost_h_list.append(cost_fact.compute_entropy())\n",
    "    \n",
    "    turns -=1"
   ]
  },
  {
   "cell_type": "code",
   "execution_count": null,
   "metadata": {},
   "outputs": [],
   "source": [
    "def per_c(uncertainty_l, cost_l):\n",
    "    change_approx_l = [(uncertainty_l[0] - a1)/w for a1, w in zip(uncertainty_l[1:], cost_l)]\n",
    "    return change_approx_l,  [(uncertainty_l[0] - a1) for a1 in uncertainty_l[1:]]"
   ]
  },
  {
   "cell_type": "code",
   "execution_count": null,
   "metadata": {},
   "outputs": [
    {
     "data": {
      "text/plain": [
       "(21, 20)"
      ]
     },
     "execution_count": 12,
     "metadata": {},
     "output_type": "execute_result"
    }
   ],
   "source": [
    "len(cost_h_list),len(have_cost_list)"
   ]
  },
  {
   "cell_type": "code",
   "execution_count": null,
   "metadata": {},
   "outputs": [],
   "source": [
    "cost_per, cost_change = per_c(cost_h_list, have_cost_list)"
   ]
  },
  {
   "cell_type": "code",
   "execution_count": null,
   "metadata": {},
   "outputs": [],
   "source": [
    "no_cost_per, no_cost_change = per_c(approx_h_list, no_cost_list)"
   ]
  },
  {
   "cell_type": "code",
   "execution_count": null,
   "metadata": {},
   "outputs": [
    {
     "data": {
      "text/plain": [
       "[0.01378663466715077,\n",
       " 0.020326330300145894,\n",
       " 0.02114312779940144,\n",
       " 0.01831713292941712,\n",
       " 0.015455989477129211,\n",
       " 0.013185989027284151,\n",
       " 0.011446617151875237,\n",
       " 0.010098523627701663,\n",
       " 0.009030648849734644,\n",
       " 0.008165985313876196,\n",
       " 0.007452157803321286,\n",
       " 0.006853024221818213,\n",
       " 0.006343040502554956,\n",
       " 0.00590369791393875,\n",
       " 0.0055212726929591525,\n",
       " 0.005185377915597091,\n",
       " 0.0048880086077330845,\n",
       " 0.004622896285237992,\n",
       " 0.004385062394949609,\n",
       " 0.004170502767613635]"
      ]
     },
     "execution_count": 15,
     "metadata": {},
     "output_type": "execute_result"
    }
   ],
   "source": [
    "cost_per"
   ]
  },
  {
   "cell_type": "code",
   "execution_count": null,
   "metadata": {},
   "outputs": [
    {
     "data": {
      "text/plain": [
       "[0.0179332379530879,\n",
       " 0.021182266787201868,\n",
       " 0.018277422088129488,\n",
       " 0.014868166724757307,\n",
       " 0.012198814258445575,\n",
       " 0.010243763754220973,\n",
       " 0.008800222786614367,\n",
       " 0.007705218843848032,\n",
       " 0.00685035101642817,\n",
       " 0.006165635130791456,\n",
       " 0.005605203123360342,\n",
       " 0.005138123030920728,\n",
       " 0.004742887860576563,\n",
       " 0.0044041114264168684,\n",
       " 0.004110504316498571,\n",
       " 0.003853597876556467,\n",
       " 0.0036269156685301905,\n",
       " 0.003425420358623834,\n",
       " 0.0032451350778463224,\n",
       " 0.003082878324268357]"
      ]
     },
     "execution_count": 16,
     "metadata": {},
     "output_type": "execute_result"
    }
   ],
   "source": [
    "no_cost_per"
   ]
  },
  {
   "cell_type": "code",
   "execution_count": null,
   "metadata": {},
   "outputs": [
    {
     "data": {
      "image/png": "[encoded data removed]",
      "text/plain": [
       "<Figure size 864x432 with 2 Axes>"
      ]
     },
     "metadata": {
      "needs_background": "light"
     },
     "output_type": "display_data"
    }
   ],
   "source": [
    "import json\n",
    "import numpy as np\n",
    "import matplotlib.pyplot as plt\n",
    "\n",
    "fig=plt.figure(num=1,figsize=(12,6))\n",
    "plt.rc('font', size=15)\n",
    "ax=fig.add_subplot(1,2,1)\n",
    "\n",
    "start = 0\n",
    "end = max(no_cost_list[-1], have_cost_list[-1])\n",
    "xs2 = np.arange(start, end, (end-start)//7)\n",
    "xs = np.arange(20)\n",
    "\n",
    "ax.set_xlabel(\"turns\", fontsize=15)#添加x轴坐标标签，后面看来没必要会删除它，这里只是为了演示一下。\n",
    "ax.set_ylabel(\"uncertainty reduction per token\",fontsize=15)\n",
    "ax.plot(xs, np.array(no_cost_per), linestyle='-', marker=\"o\", label=\"cost=1\")\n",
    "ax.plot(xs, np.array(cost_per), linestyle='-', marker='o', label=\"cost=tokens\")\n",
    "ax.set_xticks(xs[::5])\n",
    "ax.legend(loc=\"upper center\")\n",
    "\n",
    "ax2 = fig.add_subplot(1,2,2)\n",
    "ax2.set_xlabel(\"cost\", fontsize=15)\n",
    "ax2.set_ylabel(\"uncertainty reduction\", fontsize=15)\n",
    "ax2.plot(no_cost_list, np.array(no_cost_change), linestyle='-', marker=\"o\", label=\"cost=1\")\n",
    "ax2.plot(have_cost_list, np.array(cost_change), linestyle='-', marker='o', label=\"cost=tokens\")\n",
    "ax2.set_xticks(xs2)\n",
    "\n",
    "ax2.legend(loc='lower center')    \n",
    "plt.show()"
   ]
  },
  {
   "cell_type": "code",
   "execution_count": null,
   "metadata": {},
   "outputs": [],
   "source": [
    "fig.savefig(f\"./pdf/employee_cost_B={budget}.pdf\")"
   ]
  },
  {
   "cell_type": "code",
   "execution_count": null,
   "metadata": {},
   "outputs": [],
   "source": [
    "with open(f\"./output/p_w={p_w}_budget={budget}-cost.json\",\"w\") as f:\n",
    "    save_d = {}\n",
    "    save_d[\"no_cost\"]=no_cost_per\n",
    "    save_d[\"cost\"] = cost_per"
   ]
  }
 ],
 "metadata": {
  "kernelspec": {
   "display_name": "Python 3 (ipykernel)",
   "language": "python",
   "name": "python3"
  },
  "language_info": {
   "codemirror_mode": {
    "name": "ipython",
    "version": 3
   },
   "file_extension": ".py",
   "mimetype": "text/x-python",
   "name": "python",
   "nbconvert_exporter": "python",
   "pygments_lexer": "ipython3",
   "version": "3.8.10"
  },
  "vscode": {
   "interpreter": {
    "hash": "2f394aca7ca06fed1e6064aef884364492d7cdda3614a461e02e6407fc40ba69"
   }
  }
 },
 "nbformat": 4,
 "nbformat_minor": 4
}
