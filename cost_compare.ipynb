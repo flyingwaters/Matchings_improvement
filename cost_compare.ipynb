{
 "cells": [
  {
   "cell_type": "code",
   "execution_count": 1,
   "metadata": {},
   "outputs": [],
   "source": [
    "matchings_path = \"./data/employee.json\"\n",
    "answers_path = \"employee_ans.json\""
   ]
  },
  {
   "cell_type": "code",
   "execution_count": 2,
   "metadata": {},
   "outputs": [],
   "source": [
    "from fact import FactSet\n",
    "import numpy as np\n",
    "import json\n",
    "\n",
    "with open(matchings_path, \"r\") as f:\n",
    "    content = json.load(f)"
   ]
  },
  {
   "cell_type": "code",
   "execution_count": 3,
   "metadata": {},
   "outputs": [],
   "source": [
    "import tiktoken\n",
    "encoding = tiktoken.encoding_for_model(\"gpt-3.5-turbo\")"
   ]
  },
  {
   "cell_type": "code",
   "execution_count": 4,
   "metadata": {},
   "outputs": [],
   "source": [
    "def process(content):\n",
    "    import numpy as np\n",
    "    c_set = content[\"correspondence_set\"]\n",
    "    # chatgpt 的tokens 的num list\n",
    "    len_list = [len(encoding.encode(i[0][1]+i[1][1])) for i in c_set]\n",
    "    matchings = content[\"matchings\"]\n",
    "    Views = []\n",
    "    for match in matchings:\n",
    "        view = []\n",
    "        for c in c_set:\n",
    "            if c in match:\n",
    "                view.append(1)\n",
    "            else:\n",
    "                view.append(0)\n",
    "        Views.append(view)\n",
    "    return np.array(Views), np.array(content[\"prob_all\"]), np.array(len_list)"
   ]
  },
  {
   "cell_type": "code",
   "execution_count": 5,
   "metadata": {},
   "outputs": [],
   "source": [
    "facts, prob, len_list = process(content)\n",
    "ex_fact = FactSet(facts=facts, prior_p=prob, ground_true=2, len_list=len_list)\n",
    "cost_fact = FactSet(facts=facts, prior_p=prob, ground_true=2, len_list=len_list)\n",
    "brute_fact = FactSet(facts=facts, prior_p=prob, ground_true=2, len_list=len_list)"
   ]
  },
  {
   "cell_type": "code",
   "execution_count": 6,
   "metadata": {},
   "outputs": [],
   "source": [
    "from query import GreedyQuerySelector\n",
    " # 对应fact1, 3是0.8, 0.\n",
    "query_selector = GreedyQuerySelector()\n",
    "# selection_idxes, sub_facts, h = query_selector.select(ex_fact, 2, accuracy, cost_func=2)\n",
    "cost_query_selector = GreedyQuerySelector()"
   ]
  },
  {
   "cell_type": "code",
   "execution_count": 7,
   "metadata": {},
   "outputs": [],
   "source": [
    "import json\n",
    "with open(answers_path, \"r\") as f:\n",
    "    ans_list = json.load(f)"
   ]
  },
  {
   "cell_type": "code",
   "execution_count": 8,
   "metadata": {},
   "outputs": [],
   "source": [
    "## params\n",
    "# correspondence num\n",
    "c_len = ex_fact.num_fact()\n",
    "\n",
    "#LLM 预测准确率\n",
    "p_w = 0.8\n",
    "# 计算p(A_T) 和 P(A_T|v) 需要的LLM array:acc \n",
    "acc = np.array([[p_w for i in range(c_len)]])\n",
    "\n",
    "# 每个token 一个\n",
    "budget = 300 # 单位为 price of one token  \n",
    "turns = 20\n",
    "# k-selection 的参数\n",
    "k = 4\n",
    "##########################################"
   ]
  },
  {
   "cell_type": "code",
   "execution_count": 9,
   "metadata": {},
   "outputs": [],
   "source": [
    "import numpy as np\n",
    "\n",
    "approx_h_list=[ex_fact.compute_entropy()]\n",
    "cost_h_list=[cost_fact.compute_entropy()]\n",
    "\n",
    "have_cost_list = []\n",
    "no_cost_list = []\n",
    "have_cost_sum = 0\n",
    "no_cost_sum = 0\n",
    "\n",
    "while turns>0:\n",
    "    selection_idxes, sub_facts, h = query_selector.select(ex_fact, k, acc, cost_func=1)\n",
    "    \n",
    "    # for ix in selection_idxes:\n",
    "    #     cost_sum += ex_fact.len_list()[ix]\n",
    "    #     ans=[1 if ans_list[ix]==\"yes\" else 0]\n",
    "    #     p_a, p_a_v = ex_fact.compute_ans_p(ans, [ix], acc)\n",
    "    #     sum_p = []\n",
    "    #     for idx,i in enumerate(ex_fact.get_prior_p()):\n",
    "    #         p_post = i*p_a_v[idx]/p_a\n",
    "    #         sum_p.append(p_post)\n",
    "    #     ex_fact.set_prior_p(np.array(sum_p))\n",
    "    ans = [1 if ans_list[ix_r]==\"yes\" else 0 for ix_r in selection_idxes]\n",
    "    p_a,p_a_v = ex_fact.compute_ans_p(ans, selection_idxes, acc)\n",
    "    \n",
    "    for ix_nc in selection_idxes.tolist():\n",
    "        no_cost_sum += ex_fact.len_list()[ix_nc]\n",
    "    no_cost_list.append(no_cost_sum)\n",
    "    \n",
    "    sum_p = []\n",
    "    for idx,i in enumerate(ex_fact.get_prior_p()):\n",
    "        p_post = i*p_a_v[idx]/p_a\n",
    "        sum_p.append(p_post)\n",
    "    ex_fact.set_prior_p(np.array(sum_p))\n",
    "    approx_h_list.append(ex_fact.compute_entropy())\n",
    "    \n",
    "    cost_selection_idxes, sub_facts2, _ =cost_query_selector.select(cost_fact, k, acc, cost_func=2)\n",
    "    ans_cost = [1 if ans_list[ix_cost]==\"yes\" else 0 for ix_cost in cost_selection_idxes]\n",
    "    p_a_cost, p_a_v_cost = cost_fact.compute_ans_p(ans_cost, cost_selection_idxes, acc)\n",
    "    \n",
    "    for ix_c in cost_selection_idxes.tolist():\n",
    "        have_cost_sum += cost_fact.len_list()[ix_c]\n",
    "    have_cost_list.append(have_cost_sum)\n",
    "    \n",
    "    sum_p_cost = []\n",
    "    for idx,i in enumerate(cost_fact.get_prior_p()):\n",
    "        p_post_cost = i*p_a_v_cost[idx]/p_a_cost\n",
    "        sum_p_cost.append(p_post_cost)\n",
    "    cost_fact.set_prior_p(np.array(sum_p_cost))\n",
    "    cost_h_list.append(cost_fact.compute_entropy())\n",
    "    \n",
    "    turns -=1"
   ]
  },
  {
   "cell_type": "code",
   "execution_count": 10,
   "metadata": {},
   "outputs": [],
   "source": [
    "def per_c(uncertainty_l, cost_l):\n",
    "    change_approx_l = [(uncertainty_l[0] - a1)/w for a1, w in zip(uncertainty_l[1:], cost_l)]\n",
    "    return change_approx_l,  [(uncertainty_l[0] - a1) for a1 in uncertainty_l[1:]]"
   ]
  },
  {
   "cell_type": "code",
   "execution_count": 11,
   "metadata": {},
   "outputs": [
    {
     "data": {
      "text/plain": [
       "(21, 20)"
      ]
     },
     "execution_count": 11,
     "metadata": {},
     "output_type": "execute_result"
    }
   ],
   "source": [
    "len(cost_h_list),len(have_cost_list)"
   ]
  },
  {
   "cell_type": "code",
   "execution_count": 12,
   "metadata": {},
   "outputs": [],
   "source": [
    "cost_per, cost_change = per_c(cost_h_list, have_cost_list)"
   ]
  },
  {
   "cell_type": "code",
   "execution_count": 13,
   "metadata": {},
   "outputs": [],
   "source": [
    "no_cost_per, no_cost_change = per_c(approx_h_list, no_cost_list)"
   ]
  },
  {
   "cell_type": "code",
   "execution_count": 14,
   "metadata": {},
   "outputs": [
    {
     "data": {
      "text/plain": [
       "[0.04532932574557166,\n",
       " 0.05520226835259768,\n",
       " 0.05111553557526485,\n",
       " 0.04511592535609571,\n",
       " 0.042788832100869714,\n",
       " 0.04155786719211699,\n",
       " 0.045479237975595804,\n",
       " 0.04788722430794006,\n",
       " 0.040233268263444276,\n",
       " 0.03748721141768742,\n",
       " 0.033183481637302496,\n",
       " 0.03134183796428491,\n",
       " 0.030528473131928788,\n",
       " 0.027639115791695746,\n",
       " 0.02653331085377776,\n",
       " 0.02562239902865912,\n",
       " 0.02546772212647101,\n",
       " 0.022748696543239105,\n",
       " 0.021836405872063896,\n",
       " 0.02189144179362468]"
      ]
     },
     "execution_count": 14,
     "metadata": {},
     "output_type": "execute_result"
    }
   ],
   "source": [
    "cost_per"
   ]
  },
  {
   "cell_type": "code",
   "execution_count": 15,
   "metadata": {},
   "outputs": [
    {
     "data": {
      "text/plain": [
       "[0.053631772137454486,\n",
       " 0.06024732690185116,\n",
       " 0.05405895518374023,\n",
       " 0.04313446979516318,\n",
       " 0.03629069075536721,\n",
       " 0.031135251955818025,\n",
       " 0.035257496506405736,\n",
       " 0.03715305821354436,\n",
       " 0.034679040775340765,\n",
       " 0.03113626806525395,\n",
       " 0.030386173050074603,\n",
       " 0.02904462359568876,\n",
       " 0.028288407620296708,\n",
       " 0.0261066712168072,\n",
       " 0.025147488821375037,\n",
       " 0.023863940276080714,\n",
       " 0.021884472574374488,\n",
       " 0.0213871286371774,\n",
       " 0.02058445302428662,\n",
       " 0.01874678379227074]"
      ]
     },
     "execution_count": 15,
     "metadata": {},
     "output_type": "execute_result"
    }
   ],
   "source": [
    "no_cost_per"
   ]
  },
  {
   "cell_type": "code",
   "execution_count": 16,
   "metadata": {},
   "outputs": [
    {
     "data": {
      "image/png": "[encoded data removed]",
      "text/plain": [
       "<Figure size 864x432 with 2 Axes>"
      ]
     },
     "metadata": {
      "needs_background": "light"
     },
     "output_type": "display_data"
    }
   ],
   "source": [
    "import json\n",
    "import numpy as np\n",
    "import matplotlib.pyplot as plt\n",
    "\n",
    "fig=plt.figure(num=1,figsize=(12,6))\n",
    "plt.rc('font', size=15)\n",
    "ax=fig.add_subplot(1,2,1)\n",
    "\n",
    "start = 0\n",
    "end = max(no_cost_list[-1], have_cost_list[-1])\n",
    "xs2 = np.arange(start, end, (end-start)//7)\n",
    "xs = np.arange(20)\n",
    "\n",
    "ax.set_xlabel(\"turns\", fontsize=15)#添加x轴坐标标签，后面看来没必要会删除它，这里只是为了演示一下。\n",
    "ax.set_ylabel(\"uncertainty reduction per token\",fontsize=15)\n",
    "ax.plot(xs, np.array(no_cost_per), linestyle='-', marker=\"o\", label=\"cost=1\")\n",
    "ax.plot(xs, np.array(cost_per), linestyle='-', marker='o', label=\"cost=tokens\")\n",
    "ax.set_xticks(xs[::5])\n",
    "ax.legend(loc=\"upper center\")\n",
    "\n",
    "ax2 = fig.add_subplot(1,2,2)\n",
    "ax2.set_xlabel(\"cost\", fontsize=15)\n",
    "ax2.set_ylabel(\"uncertainty reduction\", fontsize=15)\n",
    "ax2.plot(no_cost_list, np.array(no_cost_change), linestyle='-', marker=\"o\", label=\"cost=1\")\n",
    "ax2.plot(have_cost_list, np.array(cost_change), linestyle='-', marker='o', label=\"cost=tokens\")\n",
    "ax2.set_xticks(xs2)\n",
    "\n",
    "ax2.legend(loc='upper left')    \n",
    "plt.show()"
   ]
  },
  {
   "cell_type": "code",
   "execution_count": 17,
   "metadata": {},
   "outputs": [],
   "source": [
    "fig.savefig(\"employee_cost.pdf\")"
   ]
  },
  {
   "cell_type": "code",
   "execution_count": 18,
   "metadata": {},
   "outputs": [],
   "source": [
    "with open(f\"./output/p_w={p_w}_k={k}-cost.json\",\"w\") as f:\n",
    "    save_d = {}\n",
    "    save_d[\"no_cost\"]=no_cost_per\n",
    "    save_d[\"cost\"] = cost_per"
   ]
  }
 ],
 "metadata": {
  "kernelspec": {
   "display_name": "Python 3 (ipykernel)",
   "language": "python",
   "name": "python3"
  },
  "language_info": {
   "codemirror_mode": {
    "name": "ipython",
    "version": 3
   },
   "file_extension": ".py",
   "mimetype": "text/x-python",
   "name": "python",
   "nbconvert_exporter": "python",
   "pygments_lexer": "ipython3",
   "version": "3.8.10"
  },
  "vscode": {
   "interpreter": {
    "hash": "2f394aca7ca06fed1e6064aef884364492d7cdda3614a461e02e6407fc40ba69"
   }
  }
 },
 "nbformat": 4,
 "nbformat_minor": 4
}
