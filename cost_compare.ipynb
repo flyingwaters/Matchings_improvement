{
 "cells": [
  {
   "cell_type": "code",
   "execution_count": 2,
   "metadata": {},
   "outputs": [],
   "source": [
    "matchings_path = \"./data/employee.json\"\n",
    "answers_path = \"./dataset/employee_ans.json\""
   ]
  },
  {
   "cell_type": "code",
   "execution_count": 3,
   "metadata": {},
   "outputs": [],
   "source": [
    "from fact import FactSet\n",
    "import numpy as np\n",
    "import json\n",
    "from llm_api import gpt_check\n",
    "\n",
    "with open(matchings_path, \"r\") as f:\n",
    "    content = json.load(f)"
   ]
  },
  {
   "cell_type": "code",
   "execution_count": 4,
   "metadata": {},
   "outputs": [],
   "source": [
    "import tiktoken\n",
    "encoding = tiktoken.encoding_for_model(\"gpt-3.5-turbo\")"
   ]
  },
  {
   "cell_type": "code",
   "execution_count": 5,
   "metadata": {},
   "outputs": [],
   "source": [
    "def process(content):\n",
    "    import numpy as np\n",
    "    c_set = content[\"correspondence_set\"]\n",
    "    # chatgpt 的tokens 的num list\n",
    "    len_list = [len(encoding.encode(i[0][1]+i[1][1])) for i in c_set]\n",
    "    matchings = content[\"matchings\"]\n",
    "    Views = []\n",
    "    for match in matchings:\n",
    "        view = []\n",
    "        for c in c_set:\n",
    "            if c in match:\n",
    "                view.append(1)\n",
    "            else:\n",
    "                view.append(0)\n",
    "        Views.append(view)\n",
    "    return np.array(Views), np.array(content[\"prob_all\"]), np.array(len_list)"
   ]
  },
  {
   "cell_type": "code",
   "execution_count": 6,
   "metadata": {},
   "outputs": [],
   "source": [
    "facts, prob, len_list = process(content)\n",
    "ex_fact = FactSet(facts=facts, prior_p=prob, ground_true=2, len_list=len_list)\n",
    "cost_fact = FactSet(facts=facts, prior_p=prob, ground_true=2, len_list=len_list)\n",
    "brute_fact = FactSet(facts=facts, prior_p=prob, ground_true=2, len_list=len_list)"
   ]
  },
  {
   "cell_type": "code",
   "execution_count": 7,
   "metadata": {},
   "outputs": [
    {
     "data": {
      "text/plain": [
       "(7, 108)"
      ]
     },
     "execution_count": 7,
     "metadata": {},
     "output_type": "execute_result"
    }
   ],
   "source": [
    "max(len_list), sum(len_list)"
   ]
  },
  {
   "cell_type": "code",
   "execution_count": 8,
   "metadata": {},
   "outputs": [],
   "source": [
    "from query import GreedyQuerySelector\n",
    " # 对应fact1, 3是0.8, 0.\n",
    "query_selector = GreedyQuerySelector()\n",
    "# selection_idxes, sub_facts, h = query_selector.select(ex_fact, 2, accuracy, cost_func=2)\n",
    "cost_query_selector = GreedyQuerySelector()"
   ]
  },
  {
   "cell_type": "code",
   "execution_count": 9,
   "metadata": {},
   "outputs": [],
   "source": [
    "import json\n",
    "with open(answers_path, \"r\") as f:\n",
    "    ans_list = json.load(f)"
   ]
  },
  {
   "cell_type": "code",
   "execution_count": 10,
   "metadata": {},
   "outputs": [],
   "source": [
    "## params\n",
    "# correspondence num\n",
    "\n",
    "api_use = False\n",
    "c_len = ex_fact.num_fact()\n",
    "\n",
    "#LLM 预测准确率\n",
    "p_w = 0.8\n",
    "# 计算p(A_T) 和 P(A_T|v) 需要的LLM array:acc \n",
    "acc = np.array([[p_w for i in range(c_len)]])\n",
    "\n",
    "# 每个token 一个\n",
    "budget = 40# 单位为 price of one token  \n",
    "turns = 20\n",
    "# k-selection 的参数\n",
    "\n",
    "##########################################"
   ]
  },
  {
   "cell_type": "code",
   "execution_count": 11,
   "metadata": {},
   "outputs": [],
   "source": [
    "import numpy as np\n",
    "\n",
    "approx_h_list=[ex_fact.compute_entropy()]\n",
    "cost_h_list=[cost_fact.compute_entropy()]\n",
    "\n",
    "have_cost_list = []\n",
    "no_cost_list = []\n",
    "have_cost_sum = 0\n",
    "no_cost_sum = 0\n",
    "\n",
    "while turns>0:\n",
    "    selection_idxes, sub_facts, h = query_selector.select(ex_fact, budget, acc, cost_func=1)\n",
    "    \n",
    "    # for ix in selection_idxes:\n",
    "    #     cost_sum += ex_fact.len_list()[ix]\n",
    "    #     ans=[1 if ans_list[ix]==\"yes\" else 0]\n",
    "    #     p_a, p_a_v = ex_fact.compute_ans_p(ans, [ix], acc)\n",
    "    #     sum_p = []\n",
    "    #     for idx,i in enumerate(ex_fact.get_prior_p()):\n",
    "    #         p_post = i*p_a_v[idx]/p_a\n",
    "    #         sum_p.append(p_post)\n",
    "    #     ex_fact.set_prior_p(np.array(sum_p))\n",
    "    if api_use:\n",
    "         ans_r = [1 if gpt_check(ix_r, content[\"correspondence_set\"])==\"yes\" else 0 for ix_r in selection_idxes]\n",
    "    else:\n",
    "        ans = [1 if ans_list[ix_r]==\"yes\" else 0 for ix_r in selection_idxes]\n",
    "    p_a,p_a_v = ex_fact.compute_ans_p(ans, selection_idxes, acc)\n",
    "    \n",
    "    for ix_nc in selection_idxes.tolist():\n",
    "        no_cost_sum += ex_fact.len_list()[ix_nc]\n",
    "    no_cost_list.append(no_cost_sum)\n",
    "    \n",
    "    sum_p = []\n",
    "    for idx,i in enumerate(ex_fact.get_prior_p()):\n",
    "        p_post = i*p_a_v[idx]/p_a\n",
    "        sum_p.append(p_post)\n",
    "    ex_fact.set_prior_p(np.array(sum_p))\n",
    "    approx_h_list.append(ex_fact.compute_entropy())\n",
    "    \n",
    "    cost_selection_idxes, sub_facts2, _ =cost_query_selector.select(cost_fact, budget, acc, cost_func=2)\n",
    "    if api_use:\n",
    "        ans_r = [1 if gpt_check(ix_r, content[\"correspondence_set\"])==\"yes\" else 0 for ix_r in cost_selection_idxes]\n",
    "    else:\n",
    "        ans_cost = [1 if ans_list[ix_cost]==\"yes\" else 0 for ix_cost in cost_selection_idxes]\n",
    "        \n",
    "    p_a_cost, p_a_v_cost = cost_fact.compute_ans_p(ans_cost, cost_selection_idxes, acc)\n",
    "    \n",
    "    for ix_c in cost_selection_idxes.tolist():\n",
    "        have_cost_sum += cost_fact.len_list()[ix_c]\n",
    "    have_cost_list.append(have_cost_sum)\n",
    "    \n",
    "    sum_p_cost = []\n",
    "    for idx,i in enumerate(cost_fact.get_prior_p()):\n",
    "        p_post_cost = i*p_a_v_cost[idx]/p_a_cost\n",
    "        sum_p_cost.append(p_post_cost)\n",
    "    cost_fact.set_prior_p(np.array(sum_p_cost))\n",
    "    cost_h_list.append(cost_fact.compute_entropy())\n",
    "    \n",
    "    turns -=1"
   ]
  },
  {
   "cell_type": "code",
   "execution_count": 12,
   "metadata": {},
   "outputs": [],
   "source": [
    "def per_c(uncertainty_l, cost_l):\n",
    "    change_approx_l = [(uncertainty_l[0] - a1)/w for a1, w in zip(uncertainty_l[1:], cost_l)]\n",
    "    return change_approx_l,  [(uncertainty_l[0] - a1) for a1 in uncertainty_l[1:]]"
   ]
  },
  {
   "cell_type": "code",
   "execution_count": 13,
   "metadata": {},
   "outputs": [
    {
     "data": {
      "text/plain": [
       "(21, 20)"
      ]
     },
     "execution_count": 13,
     "metadata": {},
     "output_type": "execute_result"
    }
   ],
   "source": [
    "len(cost_h_list),len(have_cost_list)"
   ]
  },
  {
   "cell_type": "code",
   "execution_count": 14,
   "metadata": {},
   "outputs": [],
   "source": [
    "cost_per, cost_change = per_c(cost_h_list, have_cost_list)"
   ]
  },
  {
   "cell_type": "code",
   "execution_count": 15,
   "metadata": {},
   "outputs": [],
   "source": [
    "no_cost_per, no_cost_change = per_c(approx_h_list, no_cost_list)"
   ]
  },
  {
   "cell_type": "code",
   "execution_count": 16,
   "metadata": {},
   "outputs": [
    {
     "data": {
      "text/plain": [
       "[0.01969697642971678,\n",
       " 0.02725108915716927,\n",
       " 0.024580173987237847,\n",
       " 0.020919734294359737,\n",
       " 0.017677040102638077,\n",
       " 0.01515111256051148,\n",
       " 0.013212748733124342,\n",
       " 0.011701768181063789,\n",
       " 0.010497535509641841,\n",
       " 0.009517126590856568,\n",
       " 0.008703964732535206,\n",
       " 0.00801875822698253,\n",
       " 0.007433545916662799,\n",
       " 0.0069279376209526984,\n",
       " 0.006486727983943957,\n",
       " 0.0060983507609268595,\n",
       " 0.005753852611372039,\n",
       " 0.005446194970853189,\n",
       " 0.005169768230189838,\n",
       " 0.004920046640928886]"
      ]
     },
     "execution_count": 16,
     "metadata": {},
     "output_type": "execute_result"
    }
   ],
   "source": [
    "cost_per"
   ]
  },
  {
   "cell_type": "code",
   "execution_count": 17,
   "metadata": {},
   "outputs": [
    {
     "data": {
      "text/plain": [
       "[0.020094899581754037,\n",
       " 0.022772203893664626,\n",
       " 0.020718552616105113,\n",
       " 0.017345517116388355,\n",
       " 0.014395802150736497,\n",
       " 0.012147127929511893,\n",
       " 0.010460622951118683,\n",
       " 0.00917254720461488,\n",
       " 0.008163404043574785,\n",
       " 0.0073533584021201566,\n",
       " 0.006689311223950427,\n",
       " 0.006135199058303906,\n",
       " 0.005665847594850055,\n",
       " 0.005263200542071775,\n",
       " 0.004913983949955697,\n",
       " 0.0046082250753721994,\n",
       " 0.004338287236619288,\n",
       " 0.004098223919234235,\n",
       " 0.0038833357756509713,\n",
       " 0.0036898599723814646]"
      ]
     },
     "execution_count": 17,
     "metadata": {},
     "output_type": "execute_result"
    }
   ],
   "source": [
    "no_cost_per"
   ]
  },
  {
   "cell_type": "code",
   "execution_count": 18,
   "metadata": {},
   "outputs": [
    {
     "data": {
      "image/png": "[encoded data removed]",
      "text/plain": [
       "<Figure size 864x432 with 2 Axes>"
      ]
     },
     "metadata": {
      "needs_background": "light"
     },
     "output_type": "display_data"
    }
   ],
   "source": [
    "import json\n",
    "import numpy as np\n",
    "import matplotlib.pyplot as plt\n",
    "\n",
    "fig=plt.figure(num=1,figsize=(12,6))\n",
    "plt.rc('font', size=15)\n",
    "ax=fig.add_subplot(1,2,1)\n",
    "\n",
    "start = 0\n",
    "end = max(no_cost_list[-1], have_cost_list[-1])\n",
    "xs2 = np.arange(start, end, (end-start)//7)\n",
    "xs = np.arange(20)\n",
    "\n",
    "ax.set_xlabel(\"turns\", fontsize=15)#添加x轴坐标标签，后面看来没必要会删除它，这里只是为了演示一下。\n",
    "ax.set_ylabel(\"uncertainty reduction per token\",fontsize=15)\n",
    "ax.plot(xs, np.array(no_cost_per), linestyle='-', marker=\"o\", label=\"cost=1\")\n",
    "ax.plot(xs, np.array(cost_per), linestyle='-', marker='o', label=\"cost=tokens\")\n",
    "ax.set_xticks(xs[::5])\n",
    "ax.legend(loc=\"upper center\")\n",
    "\n",
    "ax2 = fig.add_subplot(1,2,2)\n",
    "ax2.set_xlabel(\"cost\", fontsize=15)\n",
    "ax2.set_ylabel(\"uncertainty reduction\", fontsize=15)\n",
    "ax2.plot(no_cost_list, np.array(no_cost_change), linestyle='-', marker=\"o\", label=\"cost=1\")\n",
    "ax2.plot(have_cost_list, np.array(cost_change), linestyle='-', marker='o', label=\"cost=tokens\")\n",
    "ax2.set_xticks(xs2)\n",
    "\n",
    "ax2.legend(loc='lower center')    \n",
    "plt.show()"
   ]
  },
  {
   "cell_type": "code",
   "execution_count": 19,
   "metadata": {},
   "outputs": [],
   "source": [
    "fig.savefig(f\"./pdf/employee_cost_B={budget}.pdf\")"
   ]
  },
  {
   "cell_type": "code",
   "execution_count": 20,
   "metadata": {},
   "outputs": [],
   "source": [
    "with open(f\"./output/p_w={p_w}_budget={budget}-cost.json\",\"w\") as f:\n",
    "    save_d = {}\n",
    "    save_d[\"no_cost\"]=no_cost_per\n",
    "    save_d[\"cost\"] = cost_per"
   ]
  }
 ],
 "metadata": {
  "kernelspec": {
   "display_name": "Python 3 (ipykernel)",
   "language": "python",
   "name": "python3"
  },
  "language_info": {
   "codemirror_mode": {
    "name": "ipython",
    "version": 3
   },
   "file_extension": ".py",
   "mimetype": "text/x-python",
   "name": "python",
   "nbconvert_exporter": "python",
   "pygments_lexer": "ipython3",
   "version": "3.8.10"
  },
  "vscode": {
   "interpreter": {
    "hash": "2f394aca7ca06fed1e6064aef884364492d7cdda3614a461e02e6407fc40ba69"
   }
  }
 },
 "nbformat": 4,
 "nbformat_minor": 4
}
